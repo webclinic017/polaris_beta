{
 "cells": [
  {
   "cell_type": "markdown",
   "metadata": {},
   "source": [
    "# DESCRIPTION:\n",
    "<center><span style=\"color:orange\">Apply some basic database operations with a more comfortable interface, than the commands terminal.</span>"
   ]
  },
  {
   "cell_type": "markdown",
   "metadata": {},
   "source": [
    "# <center>Import libraries and instantiate objects."
   ]
  },
  {
   "cell_type": "code",
   "execution_count": 1,
   "metadata": {},
   "outputs": [],
   "source": [
    "from polaristools.mongodatabase import MongoDatabase\n",
    "from os import environ"
   ]
  },
  {
   "cell_type": "code",
   "execution_count": 2,
   "metadata": {},
   "outputs": [
    {
     "name": "stdout",
     "output_type": "stream",
     "text": [
      "MongoDB server. host : 192.168.8.106\n",
      "\n"
     ]
    }
   ],
   "source": [
    "db_user = 'admin'\n",
    "db_pass = environ.get('mongodbadminpass')\n",
    "raspi = '192.168.8.106'\n",
    "# port = '27017'\n",
    "database_config = dict(db_user=db_user,db_pass=db_pass,db_host=raspi)\n",
    "\n",
    "mongo = MongoDatabase(credentials=database_config)"
   ]
  },
  {
   "cell_type": "markdown",
   "metadata": {},
   "source": [
    "# Show databases"
   ]
  },
  {
   "cell_type": "code",
   "execution_count": 3,
   "metadata": {},
   "outputs": [
    {
     "data": {
      "text/plain": [
       "['admin',\n",
       " 'binance_spot_margin_busd_ejemplo',\n",
       " 'binance_spot_margin_usdt',\n",
       " 'config',\n",
       " 'local',\n",
       " 'test']"
      ]
     },
     "execution_count": 3,
     "metadata": {},
     "output_type": "execute_result"
    }
   ],
   "source": [
    "mongo.showDatabases()"
   ]
  },
  {
   "cell_type": "code",
   "execution_count": 13,
   "metadata": {},
   "outputs": [],
   "source": [
    "dbname = 'binance_spot_margin_usdt'"
   ]
  },
  {
   "cell_type": "code",
   "execution_count": 4,
   "metadata": {},
   "outputs": [],
   "source": [
    "dbname = 'binance_spot_margin_busd_ejemplo'"
   ]
  },
  {
   "cell_type": "markdown",
   "metadata": {},
   "source": [
    "# Show collections for a given database"
   ]
  },
  {
   "cell_type": "code",
   "execution_count": 13,
   "metadata": {},
   "outputs": [
    {
     "name": "stdout",
     "output_type": "stream",
     "text": [
      "['ws_klines_ETHUSDT_1m']\n"
     ]
    }
   ],
   "source": [
    "collections = mongo.showCollections(db_name=dbname)\n",
    "print(collections)"
   ]
  },
  {
   "cell_type": "code",
   "execution_count": null,
   "metadata": {},
   "outputs": [],
   "source": [
    "print(\n",
    "    mongo.readEdges(db_name=dbname, collection='ws_klines_BTCUSDT_1m')\n",
    ")\n",
    "    # mongo.countDocuments(db_name=dbname, collection='klines_ETHUSDT_1d'),"
   ]
  },
  {
   "cell_type": "code",
   "execution_count": null,
   "metadata": {},
   "outputs": [],
   "source": [
    "print(\n",
    "    mongo.readEdges(db_name=dbname, collection='klines_BNBUSDT_1m')\n",
    ")\n",
    "    # mongo.countDocuments(db_name=dbname, collection='klines_ETHUSDT_1d'),"
   ]
  },
  {
   "cell_type": "code",
   "execution_count": null,
   "metadata": {},
   "outputs": [],
   "source": [
    "print(\n",
    "    mongo.readEdges(db_name=dbname, collection='klines_BNBUSDT_1d')\n",
    ")\n",
    "    # mongo.countDocuments(db_name=dbname, collection='klines_ETHUSDT_1d'),"
   ]
  },
  {
   "cell_type": "code",
   "execution_count": null,
   "metadata": {},
   "outputs": [],
   "source": [
    "unminuto = [c for c in collections if c.endswith('1m')]"
   ]
  },
  {
   "cell_type": "code",
   "execution_count": 15,
   "metadata": {},
   "outputs": [],
   "source": [
    "undia = [c for c in collections if c.endswith('1d')]"
   ]
  },
  {
   "cell_type": "markdown",
   "metadata": {},
   "source": [
    "# Drop a database"
   ]
  },
  {
   "cell_type": "code",
   "execution_count": null,
   "metadata": {},
   "outputs": [],
   "source": [
    "database_to_drop = 'binance_spot_margin_usdt'\n",
    "mongo.dropDatabase(db_name=database_to_drop)"
   ]
  },
  {
   "cell_type": "markdown",
   "metadata": {},
   "source": [
    "# Drop a collection"
   ]
  },
  {
   "cell_type": "code",
   "execution_count": null,
   "metadata": {},
   "outputs": [],
   "source": [
    "for coll in ['klines_ADABTC_1d', 'ws_klines_symbol_interval', 'klines_ADABUSD_1d', 'ws_klines_BTCUSDT_1m', 'ws_klines_ETHUSDT_1m']:\n",
    "    mongo.dropCollection(db_name=dbname, collection=coll)"
   ]
  },
  {
   "cell_type": "code",
   "execution_count": null,
   "metadata": {},
   "outputs": [],
   "source": [
    "collection_to_drop = ''\n",
    "\n",
    "mongo.dropCollection(db_name=dbname, collection=collection_to_drop)"
   ]
  },
  {
   "cell_type": "markdown",
   "metadata": {},
   "source": [
    "## Querys"
   ]
  },
  {
   "cell_type": "code",
   "execution_count": 20,
   "metadata": {},
   "outputs": [],
   "source": [
    "from datetime import datetime"
   ]
  },
  {
   "cell_type": "code",
   "execution_count": 5,
   "metadata": {},
   "outputs": [],
   "source": [
    "client = mongo.mongoClient()"
   ]
  },
  {
   "cell_type": "code",
   "execution_count": 17,
   "metadata": {},
   "outputs": [],
   "source": [
    "my_db = client['binance_spot_margin_usdt']"
   ]
  },
  {
   "cell_type": "code",
   "execution_count": 6,
   "metadata": {},
   "outputs": [],
   "source": [
    "my_db = client['binance_spot_margin_busd_ejemplo']"
   ]
  },
  {
   "cell_type": "code",
   "execution_count": 7,
   "metadata": {},
   "outputs": [],
   "source": [
    "my_collection = my_db['ws_klines_ETHUSDT_1m']"
   ]
  },
  {
   "cell_type": "code",
   "execution_count": 18,
   "metadata": {},
   "outputs": [],
   "source": [
    "my_collection = my_db['klines_BTCUSDT_1d']"
   ]
  },
  {
   "cell_type": "code",
   "execution_count": 8,
   "metadata": {},
   "outputs": [],
   "source": [
    "query={}"
   ]
  },
  {
   "cell_type": "code",
   "execution_count": 21,
   "metadata": {},
   "outputs": [],
   "source": [
    "query = {\n",
    "    'open_time':{\n",
    "        '$gte':datetime(2022,8,7,0,0,0),\n",
    "        # '$lte':datetime(2022,8,7,0,0,0),\n",
    "    } \n",
    "}"
   ]
  },
  {
   "cell_type": "code",
   "execution_count": 22,
   "metadata": {},
   "outputs": [
    {
     "data": {
      "text/plain": [
       "142"
      ]
     },
     "execution_count": 22,
     "metadata": {},
     "output_type": "execute_result"
    }
   ],
   "source": [
    "qcursor = my_collection.find(query)\n",
    "queryaslist = list(qcursor)\n",
    "\n",
    "len(queryaslist)"
   ]
  },
  {
   "cell_type": "code",
   "execution_count": null,
   "metadata": {},
   "outputs": [],
   "source": [
    "queryaslist[0]"
   ]
  },
  {
   "cell_type": "code",
   "execution_count": null,
   "metadata": {},
   "outputs": [],
   "source": [
    "queryaslist[-1]"
   ]
  },
  {
   "cell_type": "code",
   "execution_count": null,
   "metadata": {},
   "outputs": [],
   "source": [
    "[dicc.get('open_time')for dicc in queryaslist[130:]]"
   ]
  }
 ],
 "metadata": {
  "kernelspec": {
   "display_name": "Python 3.8.10 ('.venv': venv)",
   "language": "python",
   "name": "python3"
  },
  "language_info": {
   "codemirror_mode": {
    "name": "ipython",
    "version": 3
   },
   "file_extension": ".py",
   "mimetype": "text/x-python",
   "name": "python",
   "nbconvert_exporter": "python",
   "pygments_lexer": "ipython3",
   "version": "3.8.10"
  },
  "orig_nbformat": 4,
  "vscode": {
   "interpreter": {
    "hash": "ac5873100a2edc221f28b94df47af2a14d053092f6557ae7f036668fe4d9d3d0"
   }
  }
 },
 "nbformat": 4,
 "nbformat_minor": 2
}
