{
 "cells": [
  {
   "cell_type": "markdown",
   "metadata": {},
   "source": [
    "# DESCRIPTION:\n",
    "<center><span style=\"color:orange\">Apply some basic database operations with a more comfortable interface, than the commands terminal.</span>"
   ]
  },
  {
   "cell_type": "markdown",
   "metadata": {},
   "source": [
    "Import libraries and instantiate objects."
   ]
  },
  {
   "cell_type": "code",
   "execution_count": 1,
   "metadata": {},
   "outputs": [],
   "source": [
    "from polaristools.mongodatabase import MongoDatabase\n",
    "from os import environ"
   ]
  },
  {
   "cell_type": "code",
   "execution_count": 17,
   "metadata": {},
   "outputs": [],
   "source": [
    "from datetime import datetime"
   ]
  },
  {
   "cell_type": "code",
   "execution_count": 2,
   "metadata": {},
   "outputs": [
    {
     "name": "stdout",
     "output_type": "stream",
     "text": [
      "MongoDB server. host : 192.168.8.106\n",
      "\n"
     ]
    }
   ],
   "source": [
    "db_user = 'admin'\n",
    "db_pass = environ.get('mongodbadminpass')\n",
    "raspi = '192.168.8.106'\n",
    "# port = '27017'\n",
    "\n",
    "mongo = MongoDatabase(db_user=db_user,db_pass=db_pass,db_host=raspi,)"
   ]
  },
  {
   "cell_type": "markdown",
   "metadata": {},
   "source": [
    "# Show databases"
   ]
  },
  {
   "cell_type": "code",
   "execution_count": null,
   "metadata": {},
   "outputs": [],
   "source": [
    "mongo.showDatabases()"
   ]
  },
  {
   "cell_type": "code",
   "execution_count": 3,
   "metadata": {},
   "outputs": [],
   "source": [
    "dbname = 'binance_spot_margin_usdt'"
   ]
  },
  {
   "cell_type": "code",
   "execution_count": null,
   "metadata": {},
   "outputs": [],
   "source": [
    "dbname = 'binance_spot_margin_busd_ejemplo'"
   ]
  },
  {
   "cell_type": "markdown",
   "metadata": {},
   "source": [
    "# Show collections for a given database"
   ]
  },
  {
   "cell_type": "code",
   "execution_count": 12,
   "metadata": {},
   "outputs": [
    {
     "name": "stdout",
     "output_type": "stream",
     "text": [
      "['klines_BNBUSDT_1m', 'klines_ZILUSDT_1d', 'klines_BTCUSDT_1m', 'klines_ATOMUSDT_1d', 'klines_ETHUSDT_1d', 'klines_ETHUSDT_1m', 'klines_BNBUSDT_1d', 'klines_DOGEUSDT_1d', 'klines_APEUSDT_1d', 'klines_AVAXUSDT_1d', 'klines_MATICUSDT_1d', 'klines_LINKUSDT_1d', 'klines_DOTUSDT_1d', 'klines_XRPUSDT_1d', 'klines_BTCUSDT_1d', 'klines_ADAUSDT_1d', 'klines_WAVESUSDT_1d', 'klines_LTCUSDT_1d', 'klines_DOGEUSDT_1m', 'klines_SOLUSDT_1d', 'klines_TRXUSDT_1d', 'klines_SHIBUSDT_1d']\n"
     ]
    }
   ],
   "source": [
    "collections = mongo.showCollections(db_name=dbname)\n",
    "print(collections)"
   ]
  },
  {
   "cell_type": "code",
   "execution_count": null,
   "metadata": {},
   "outputs": [],
   "source": [
    "print(\n",
    "    mongo.readEdges(db_name=dbname, collection='klines_BNBUSDT_1m')\n",
    ")\n",
    "    # mongo.countDocuments(db_name=dbname, collection='klines_ETHUSDT_1d'),"
   ]
  },
  {
   "cell_type": "code",
   "execution_count": null,
   "metadata": {},
   "outputs": [],
   "source": [
    "print(\n",
    "    mongo.readEdges(db_name=dbname, collection='klines_BNBUSDT_1d')\n",
    ")\n",
    "    # mongo.countDocuments(db_name=dbname, collection='klines_ETHUSDT_1d'),"
   ]
  },
  {
   "cell_type": "code",
   "execution_count": null,
   "metadata": {},
   "outputs": [],
   "source": [
    "unminuto = [c for c in collections if c.endswith('1m')]"
   ]
  },
  {
   "cell_type": "code",
   "execution_count": null,
   "metadata": {},
   "outputs": [],
   "source": [
    "undia = [c for c in collections if c.endswith('1d')]"
   ]
  },
  {
   "cell_type": "markdown",
   "metadata": {},
   "source": [
    "# Drop a database"
   ]
  },
  {
   "cell_type": "code",
   "execution_count": null,
   "metadata": {},
   "outputs": [],
   "source": [
    "database_to_drop = 'binance_spot_margin_usdt'\n",
    "mongo.dropDatabase(db_name=database_to_drop)"
   ]
  },
  {
   "cell_type": "markdown",
   "metadata": {},
   "source": [
    "# Drop a collection"
   ]
  },
  {
   "cell_type": "code",
   "execution_count": null,
   "metadata": {},
   "outputs": [],
   "source": [
    "collection_to_drop = ''\n",
    "\n",
    "mongo.dropCollection(db_name=dbname, collection=collection_to_drop)"
   ]
  },
  {
   "cell_type": "markdown",
   "metadata": {},
   "source": [
    "## Querys"
   ]
  },
  {
   "cell_type": "code",
   "execution_count": 13,
   "metadata": {},
   "outputs": [],
   "source": [
    "client = mongo.mongoClient()"
   ]
  },
  {
   "cell_type": "code",
   "execution_count": 14,
   "metadata": {},
   "outputs": [],
   "source": [
    "my_db = client['binance_spot_margin_usdt']"
   ]
  },
  {
   "cell_type": "code",
   "execution_count": 15,
   "metadata": {},
   "outputs": [],
   "source": [
    "my_collection = my_db['klines_BTCUSDT_1m']"
   ]
  },
  {
   "cell_type": "code",
   "execution_count": null,
   "metadata": {},
   "outputs": [],
   "source": [
    "query={}"
   ]
  },
  {
   "cell_type": "code",
   "execution_count": 18,
   "metadata": {},
   "outputs": [],
   "source": [
    "query = {\n",
    "    'open_time':{\n",
    "        '$gte':datetime(2022,8,7,0,0,0),\n",
    "        # '$lte':datetime(2022,8,7,0,0,0),\n",
    "    } \n",
    "}"
   ]
  },
  {
   "cell_type": "code",
   "execution_count": 19,
   "metadata": {},
   "outputs": [],
   "source": [
    "qcursor = my_collection.find(query)"
   ]
  },
  {
   "cell_type": "code",
   "execution_count": 20,
   "metadata": {},
   "outputs": [],
   "source": [
    "queryaslist = list(qcursor)"
   ]
  },
  {
   "cell_type": "code",
   "execution_count": 21,
   "metadata": {},
   "outputs": [
    {
     "data": {
      "text/plain": [
       "1291"
      ]
     },
     "execution_count": 21,
     "metadata": {},
     "output_type": "execute_result"
    }
   ],
   "source": [
    "len(queryaslist)"
   ]
  },
  {
   "cell_type": "code",
   "execution_count": null,
   "metadata": {},
   "outputs": [],
   "source": [
    "queryaslist[-1]"
   ]
  }
 ],
 "metadata": {
  "kernelspec": {
   "display_name": "Python 3.8.10 ('.venv-p39': venv)",
   "language": "python",
   "name": "python3"
  },
  "language_info": {
   "codemirror_mode": {
    "name": "ipython",
    "version": 3
   },
   "file_extension": ".py",
   "mimetype": "text/x-python",
   "name": "python",
   "nbconvert_exporter": "python",
   "pygments_lexer": "ipython3",
   "version": "3.8.10"
  },
  "orig_nbformat": 4,
  "vscode": {
   "interpreter": {
    "hash": "646425df6a41cfd3607fa50451e6bc17bfe23ef1d5fe6e3785861e277c56bb07"
   }
  }
 },
 "nbformat": 4,
 "nbformat_minor": 2
}
