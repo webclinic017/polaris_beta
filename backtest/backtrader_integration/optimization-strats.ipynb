{
 "cells": [
  {
   "cell_type": "code",
   "execution_count": 45,
   "metadata": {},
   "outputs": [],
   "source": [
    "from __future__ import (absolute_import, division, print_function,unicode_literals)\n",
    "from datetime import datetime\n",
    "from os import environ\n",
    "import pickle\n",
    "import sys\n",
    "\n",
    "import backtrader as bt\n",
    "import pandas as pd\n",
    "import pdmongo as pdm\n",
    "\n",
    "from polaristools.polarisbot import PolarisBot\n",
    "from strategies import mystrategies"
   ]
  },
  {
   "cell_type": "markdown",
   "metadata": {},
   "source": [
    "## Instantiate Cerebro"
   ]
  },
  {
   "cell_type": "code",
   "execution_count": 46,
   "metadata": {},
   "outputs": [],
   "source": [
    "cerebro = bt.Cerebro()"
   ]
  },
  {
   "cell_type": "markdown",
   "metadata": {},
   "source": [
    "## Configure Cerebro"
   ]
  },
  {
   "cell_type": "code",
   "execution_count": 47,
   "metadata": {},
   "outputs": [],
   "source": [
    "cerebro.broker.set_cash(100)\n",
    "cerebro.addsizer(bt.sizers.PercentSizer, percents=25)\n",
    "cerebro.broker.setcommission(commission=0.005)"
   ]
  },
  {
   "cell_type": "markdown",
   "metadata": {},
   "source": [
    "## Add data to Cerebro"
   ]
  },
  {
   "cell_type": "code",
   "execution_count": 48,
   "metadata": {},
   "outputs": [],
   "source": [
    "polaris = PolarisBot()"
   ]
  },
  {
   "cell_type": "markdown",
   "metadata": {},
   "source": [
    "## <center>Daily Data"
   ]
  },
  {
   "cell_type": "code",
   "execution_count": 49,
   "metadata": {},
   "outputs": [],
   "source": [
    "# df = polaris.dataframeFromBinary('df_klines_BTCUSDT_1d')\n",
    "# df = df['2018-08-01':'2022-08-01'].copy()"
   ]
  },
  {
   "cell_type": "code",
   "execution_count": 50,
   "metadata": {},
   "outputs": [],
   "source": [
    "# feed = bt.feeds.PandasData(dataname=df)\n",
    "# cerebro.adddata(feed)"
   ]
  },
  {
   "cell_type": "markdown",
   "metadata": {},
   "source": [
    "## <center>Minute Data"
   ]
  },
  {
   "cell_type": "code",
   "execution_count": 51,
   "metadata": {},
   "outputs": [
    {
     "data": {
      "text/plain": [
       "<backtrader.feeds.pandafeed.PandasData at 0x7f84f07672e0>"
      ]
     },
     "execution_count": 51,
     "metadata": {},
     "output_type": "execute_result"
    }
   ],
   "source": [
    "minutes = 60\n",
    "\n",
    "df = polaris.dataframeFromBinary(f'df_klines_BTCUSDT_{minutes}m')\n",
    "df = df['2022-05-01':'2022-08-10'].copy()\n",
    "\n",
    "feed = bt.feeds.PandasData(dataname=df, timeframe=bt.TimeFrame.Minutes, compression=minutes)\n",
    "cerebro.adddata(feed)"
   ]
  },
  {
   "cell_type": "markdown",
   "metadata": {},
   "source": [
    "## Add analyzers to Cerebro"
   ]
  },
  {
   "cell_type": "code",
   "execution_count": 52,
   "metadata": {},
   "outputs": [],
   "source": [
    "cerebro.addanalyzer(bt.analyzers.TradeAnalyzer, _name='tradeanalyzer')\n",
    "cerebro.addanalyzer(bt.analyzers.DrawDown, _name='drawdown')"
   ]
  },
  {
   "cell_type": "markdown",
   "metadata": {},
   "source": [
    "## Strategy and Parameters range"
   ]
  },
  {
   "cell_type": "code",
   "execution_count": 53,
   "metadata": {},
   "outputs": [
    {
     "data": {
      "text/plain": [
       "' cerebro.optstrategy(mystrategies.EmaCrossTriple, \\n    \\n    enter_long=False,\\n    enter_short=True,\\n    \\n    ema_slow=[100,120],\\n    ema_mid=[60,70,80],\\n    ema_fast=[25,35,40],\\n    \\n    tp_k=range(1,3),\\n    sl_k=range(1,3),\\n    \\n    # leverage_factor = 1.0\\n) '"
      ]
     },
     "execution_count": 53,
     "metadata": {},
     "output_type": "execute_result"
    }
   ],
   "source": [
    "''' cerebro.optstrategy(mystrategies.EmaCrossTriple, \n",
    "    \n",
    "    enter_long=False,\n",
    "    enter_short=True,\n",
    "    \n",
    "    ema_slow=[100,120],\n",
    "    ema_mid=[60,70,80],\n",
    "    ema_fast=[25,35,40],\n",
    "    \n",
    "    tp_k=range(1,3),\n",
    "    sl_k=range(1,3),\n",
    "    \n",
    "    # leverage_factor = 1.0\n",
    ") '''"
   ]
  },
  {
   "cell_type": "code",
   "execution_count": 54,
   "metadata": {},
   "outputs": [],
   "source": [
    "cerebro.optstrategy(mystrategies.AroonPlusMa, \n",
    "    \n",
    "    enter_long=True,\n",
    "    enter_short=True,\n",
    "    \n",
    "    ema=range(100,500,25),\n",
    "    \n",
    "    aroon_timeperiod=range(50,301,25),\n",
    "    \n",
    "    # leverage_factor = 1.0\n",
    ")"
   ]
  },
  {
   "cell_type": "markdown",
   "metadata": {},
   "source": [
    "## Run Cerebro"
   ]
  },
  {
   "cell_type": "code",
   "execution_count": 55,
   "metadata": {},
   "outputs": [],
   "source": [
    "optimizations = cerebro.run()"
   ]
  },
  {
   "cell_type": "code",
   "execution_count": 56,
   "metadata": {},
   "outputs": [
    {
     "data": {
      "text/plain": [
       "176"
      ]
     },
     "execution_count": 56,
     "metadata": {},
     "output_type": "execute_result"
    }
   ],
   "source": [
    "optimizations.__len__()"
   ]
  },
  {
   "cell_type": "markdown",
   "metadata": {},
   "source": [
    "# Analyze Results"
   ]
  },
  {
   "cell_type": "code",
   "execution_count": 57,
   "metadata": {},
   "outputs": [],
   "source": [
    "# optimizations[0][0].analyzers.getnames()"
   ]
  },
  {
   "cell_type": "code",
   "execution_count": 58,
   "metadata": {},
   "outputs": [],
   "source": [
    "all_params = [\n",
    "    dict(zip(\n",
    "        list(x[0].params._getkeys()),\n",
    "        list(x[0].params._getvalues()),\n",
    "    ))for x in optimizations \n",
    "]"
   ]
  },
  {
   "cell_type": "code",
   "execution_count": 59,
   "metadata": {},
   "outputs": [
    {
     "data": {
      "text/plain": [
       "176"
      ]
     },
     "execution_count": 59,
     "metadata": {},
     "output_type": "execute_result"
    }
   ],
   "source": [
    "len(all_params)"
   ]
  },
  {
   "cell_type": "code",
   "execution_count": 60,
   "metadata": {},
   "outputs": [],
   "source": [
    "df_params = pd.DataFrame(all_params)\n",
    "df_params.drop(columns=['verbose'], inplace=True)\n",
    "# df_params.head()"
   ]
  },
  {
   "cell_type": "code",
   "execution_count": 61,
   "metadata": {},
   "outputs": [],
   "source": [
    "trades = [\n",
    "    dict(\n",
    "        pnl_net       = x[0].analyzers.tradeanalyzer.get_analysis()['pnl']['net']['total'], \n",
    "        total_trades  = x[0].analyzers.tradeanalyzer.get_analysis()['total']['total'], \n",
    "        won           = x[0].analyzers.tradeanalyzer.get_analysis()['won']['total'], \n",
    "        lost          = x[0].analyzers.tradeanalyzer.get_analysis()['lost']['total'],\n",
    "        \n",
    "        long_won      = x[0].analyzers.tradeanalyzer.get_analysis()['long']['won'],\n",
    "        short_won     = x[0].analyzers.tradeanalyzer.get_analysis()['short']['won'],\n",
    "        \n",
    "        long_lost     = x[0].analyzers.tradeanalyzer.get_analysis()['long']['lost'],\n",
    "        short_lost    = x[0].analyzers.tradeanalyzer.get_analysis()['short']['lost'],\n",
    "        \n",
    "        longs_pnl    = x[0].analyzers.tradeanalyzer.get_analysis()['long']['pnl']['total'],\n",
    "        shorts_pnl    = x[0].analyzers.tradeanalyzer.get_analysis()['short']['pnl']['total'],\n",
    "        \n",
    "        moneydown_max = x[0].analyzers.drawdown.get_analysis()['max']['moneydown'],\n",
    "    )for x in optimizations\n",
    "]"
   ]
  },
  {
   "cell_type": "code",
   "execution_count": 62,
   "metadata": {},
   "outputs": [],
   "source": [
    "df_trades = pd.DataFrame(trades)"
   ]
  },
  {
   "cell_type": "code",
   "execution_count": 63,
   "metadata": {},
   "outputs": [],
   "source": [
    "df_results = pd.concat([df_params, df_trades], axis=1)"
   ]
  },
  {
   "cell_type": "code",
   "execution_count": 64,
   "metadata": {},
   "outputs": [
    {
     "data": {
      "text/plain": [
       "Index(['futures_like', 'enter_long', 'enter_short', 'ema', 'aroon_timeperiod',\n",
       "       'leverage_factor', 'margin', 'tp_k', 'sl_k', 'trail', 'pnl_net',\n",
       "       'total_trades', 'won', 'lost', 'long_won', 'short_won', 'long_lost',\n",
       "       'short_lost', 'longs_pnl', 'shorts_pnl', 'moneydown_max'],\n",
       "      dtype='object')"
      ]
     },
     "execution_count": 64,
     "metadata": {},
     "output_type": "execute_result"
    }
   ],
   "source": [
    "df_results.columns"
   ]
  },
  {
   "cell_type": "markdown",
   "metadata": {},
   "source": [
    "# BEST RESULTS"
   ]
  },
  {
   "cell_type": "code",
   "execution_count": 65,
   "metadata": {},
   "outputs": [
    {
     "data": {
      "text/html": [
       "<div>\n",
       "<style scoped>\n",
       "    .dataframe tbody tr th:only-of-type {\n",
       "        vertical-align: middle;\n",
       "    }\n",
       "\n",
       "    .dataframe tbody tr th {\n",
       "        vertical-align: top;\n",
       "    }\n",
       "\n",
       "    .dataframe thead th {\n",
       "        text-align: right;\n",
       "    }\n",
       "</style>\n",
       "<table border=\"1\" class=\"dataframe\">\n",
       "  <thead>\n",
       "    <tr style=\"text-align: right;\">\n",
       "      <th></th>\n",
       "      <th>pnl_net</th>\n",
       "      <th>won</th>\n",
       "      <th>lost</th>\n",
       "      <th>total_trades</th>\n",
       "      <th>moneydown_max</th>\n",
       "      <th>long_won</th>\n",
       "      <th>long_lost</th>\n",
       "      <th>short_won</th>\n",
       "      <th>short_lost</th>\n",
       "      <th>longs_pnl</th>\n",
       "      <th>shorts_pnl</th>\n",
       "      <th>leverage_factor</th>\n",
       "      <th>aroon_timeperiod</th>\n",
       "      <th>ema</th>\n",
       "    </tr>\n",
       "  </thead>\n",
       "  <tbody>\n",
       "    <tr>\n",
       "      <th>156</th>\n",
       "      <td>5.710581</td>\n",
       "      <td>3</td>\n",
       "      <td>6</td>\n",
       "      <td>9</td>\n",
       "      <td>4.301086</td>\n",
       "      <td>0</td>\n",
       "      <td>1</td>\n",
       "      <td>3</td>\n",
       "      <td>5</td>\n",
       "      <td>-0.229392</td>\n",
       "      <td>5.939973</td>\n",
       "      <td>1.0</td>\n",
       "      <td>100</td>\n",
       "      <td>450</td>\n",
       "    </tr>\n",
       "    <tr>\n",
       "      <th>167</th>\n",
       "      <td>5.710581</td>\n",
       "      <td>3</td>\n",
       "      <td>6</td>\n",
       "      <td>9</td>\n",
       "      <td>4.301086</td>\n",
       "      <td>0</td>\n",
       "      <td>1</td>\n",
       "      <td>3</td>\n",
       "      <td>5</td>\n",
       "      <td>-0.229392</td>\n",
       "      <td>5.939973</td>\n",
       "      <td>1.0</td>\n",
       "      <td>100</td>\n",
       "      <td>475</td>\n",
       "    </tr>\n",
       "    <tr>\n",
       "      <th>69</th>\n",
       "      <td>5.320188</td>\n",
       "      <td>3</td>\n",
       "      <td>5</td>\n",
       "      <td>8</td>\n",
       "      <td>5.715897</td>\n",
       "      <td>1</td>\n",
       "      <td>1</td>\n",
       "      <td>2</td>\n",
       "      <td>4</td>\n",
       "      <td>1.640227</td>\n",
       "      <td>3.679961</td>\n",
       "      <td>1.0</td>\n",
       "      <td>125</td>\n",
       "      <td>250</td>\n",
       "    </tr>\n",
       "    <tr>\n",
       "      <th>134</th>\n",
       "      <td>5.314077</td>\n",
       "      <td>3</td>\n",
       "      <td>7</td>\n",
       "      <td>10</td>\n",
       "      <td>4.284953</td>\n",
       "      <td>0</td>\n",
       "      <td>1</td>\n",
       "      <td>3</td>\n",
       "      <td>6</td>\n",
       "      <td>-0.228531</td>\n",
       "      <td>5.542608</td>\n",
       "      <td>1.0</td>\n",
       "      <td>100</td>\n",
       "      <td>400</td>\n",
       "    </tr>\n",
       "    <tr>\n",
       "      <th>145</th>\n",
       "      <td>5.314077</td>\n",
       "      <td>3</td>\n",
       "      <td>7</td>\n",
       "      <td>10</td>\n",
       "      <td>4.284953</td>\n",
       "      <td>0</td>\n",
       "      <td>1</td>\n",
       "      <td>3</td>\n",
       "      <td>6</td>\n",
       "      <td>-0.228531</td>\n",
       "      <td>5.542608</td>\n",
       "      <td>1.0</td>\n",
       "      <td>100</td>\n",
       "      <td>425</td>\n",
       "    </tr>\n",
       "    <tr>\n",
       "      <th>70</th>\n",
       "      <td>3.966604</td>\n",
       "      <td>2</td>\n",
       "      <td>5</td>\n",
       "      <td>8</td>\n",
       "      <td>5.364620</td>\n",
       "      <td>1</td>\n",
       "      <td>1</td>\n",
       "      <td>1</td>\n",
       "      <td>4</td>\n",
       "      <td>-0.890045</td>\n",
       "      <td>4.856649</td>\n",
       "      <td>1.0</td>\n",
       "      <td>150</td>\n",
       "      <td>250</td>\n",
       "    </tr>\n",
       "    <tr>\n",
       "      <th>81</th>\n",
       "      <td>3.966604</td>\n",
       "      <td>2</td>\n",
       "      <td>5</td>\n",
       "      <td>8</td>\n",
       "      <td>5.364620</td>\n",
       "      <td>1</td>\n",
       "      <td>1</td>\n",
       "      <td>1</td>\n",
       "      <td>4</td>\n",
       "      <td>-0.890045</td>\n",
       "      <td>4.856649</td>\n",
       "      <td>1.0</td>\n",
       "      <td>150</td>\n",
       "      <td>275</td>\n",
       "    </tr>\n",
       "    <tr>\n",
       "      <th>92</th>\n",
       "      <td>3.966604</td>\n",
       "      <td>2</td>\n",
       "      <td>5</td>\n",
       "      <td>8</td>\n",
       "      <td>5.364620</td>\n",
       "      <td>1</td>\n",
       "      <td>1</td>\n",
       "      <td>1</td>\n",
       "      <td>4</td>\n",
       "      <td>-0.890045</td>\n",
       "      <td>4.856649</td>\n",
       "      <td>1.0</td>\n",
       "      <td>150</td>\n",
       "      <td>300</td>\n",
       "    </tr>\n",
       "    <tr>\n",
       "      <th>0</th>\n",
       "      <td>3.112332</td>\n",
       "      <td>5</td>\n",
       "      <td>15</td>\n",
       "      <td>21</td>\n",
       "      <td>8.387482</td>\n",
       "      <td>1</td>\n",
       "      <td>3</td>\n",
       "      <td>4</td>\n",
       "      <td>12</td>\n",
       "      <td>0.124332</td>\n",
       "      <td>2.988000</td>\n",
       "      <td>1.0</td>\n",
       "      <td>50</td>\n",
       "      <td>100</td>\n",
       "    </tr>\n",
       "    <tr>\n",
       "      <th>37</th>\n",
       "      <td>3.092883</td>\n",
       "      <td>2</td>\n",
       "      <td>4</td>\n",
       "      <td>7</td>\n",
       "      <td>6.225688</td>\n",
       "      <td>1</td>\n",
       "      <td>2</td>\n",
       "      <td>1</td>\n",
       "      <td>2</td>\n",
       "      <td>-2.651095</td>\n",
       "      <td>5.743977</td>\n",
       "      <td>1.0</td>\n",
       "      <td>150</td>\n",
       "      <td>175</td>\n",
       "    </tr>\n",
       "  </tbody>\n",
       "</table>\n",
       "</div>"
      ],
      "text/plain": [
       "      pnl_net  won  lost  total_trades  moneydown_max  long_won  long_lost  \\\n",
       "156  5.710581    3     6             9       4.301086         0          1   \n",
       "167  5.710581    3     6             9       4.301086         0          1   \n",
       "69   5.320188    3     5             8       5.715897         1          1   \n",
       "134  5.314077    3     7            10       4.284953         0          1   \n",
       "145  5.314077    3     7            10       4.284953         0          1   \n",
       "70   3.966604    2     5             8       5.364620         1          1   \n",
       "81   3.966604    2     5             8       5.364620         1          1   \n",
       "92   3.966604    2     5             8       5.364620         1          1   \n",
       "0    3.112332    5    15            21       8.387482         1          3   \n",
       "37   3.092883    2     4             7       6.225688         1          2   \n",
       "\n",
       "     short_won  short_lost  longs_pnl  shorts_pnl  leverage_factor  \\\n",
       "156          3           5  -0.229392    5.939973              1.0   \n",
       "167          3           5  -0.229392    5.939973              1.0   \n",
       "69           2           4   1.640227    3.679961              1.0   \n",
       "134          3           6  -0.228531    5.542608              1.0   \n",
       "145          3           6  -0.228531    5.542608              1.0   \n",
       "70           1           4  -0.890045    4.856649              1.0   \n",
       "81           1           4  -0.890045    4.856649              1.0   \n",
       "92           1           4  -0.890045    4.856649              1.0   \n",
       "0            4          12   0.124332    2.988000              1.0   \n",
       "37           1           2  -2.651095    5.743977              1.0   \n",
       "\n",
       "     aroon_timeperiod  ema  \n",
       "156               100  450  \n",
       "167               100  475  \n",
       "69                125  250  \n",
       "134               100  400  \n",
       "145               100  425  \n",
       "70                150  250  \n",
       "81                150  275  \n",
       "92                150  300  \n",
       "0                  50  100  \n",
       "37                150  175  "
      ]
     },
     "execution_count": 65,
     "metadata": {},
     "output_type": "execute_result"
    }
   ],
   "source": [
    "best = df_results[ \n",
    "    [\n",
    "    'pnl_net',\n",
    "    'won',\n",
    "    'lost',\n",
    "    'total_trades',\n",
    "    'moneydown_max',\n",
    "    'long_won',\n",
    "    'long_lost',\n",
    "    'short_won',\n",
    "    'short_lost',\n",
    "    'longs_pnl',\n",
    "    'shorts_pnl',\n",
    "    'leverage_factor',\n",
    "    'aroon_timeperiod',\n",
    "    'ema',\n",
    "    ]\n",
    "    ].nlargest(10,['pnl_net'])\n",
    "    \n",
    "best"
   ]
  },
  {
   "cell_type": "code",
   "execution_count": 66,
   "metadata": {},
   "outputs": [
    {
     "data": {
      "text/plain": [
       "{'futures_like': True,\n",
       " 'enter_long': True,\n",
       " 'enter_short': True,\n",
       " 'ema': 450,\n",
       " 'aroon_timeperiod': 100,\n",
       " 'leverage_factor': 1.0,\n",
       " 'margin': 0.6,\n",
       " 'tp_k': 2,\n",
       " 'sl_k': 2,\n",
       " 'trail': None,\n",
       " 'pnl_net': 5.710581466328954,\n",
       " 'total_trades': 9,\n",
       " 'won': 3,\n",
       " 'lost': 6,\n",
       " 'long_won': 0,\n",
       " 'short_won': 3,\n",
       " 'long_lost': 1,\n",
       " 'short_lost': 5,\n",
       " 'longs_pnl': -0.22939170887921237,\n",
       " 'shorts_pnl': 5.939973175208166,\n",
       " 'moneydown_max': 4.301085505313495}"
      ]
     },
     "execution_count": 66,
     "metadata": {},
     "output_type": "execute_result"
    }
   ],
   "source": [
    "dict(df_results.loc[ int(best.first_valid_index()) ])"
   ]
  },
  {
   "cell_type": "code",
   "execution_count": 67,
   "metadata": {},
   "outputs": [
    {
     "data": {
      "text/html": [
       "<div>\n",
       "<style scoped>\n",
       "    .dataframe tbody tr th:only-of-type {\n",
       "        vertical-align: middle;\n",
       "    }\n",
       "\n",
       "    .dataframe tbody tr th {\n",
       "        vertical-align: top;\n",
       "    }\n",
       "\n",
       "    .dataframe thead th {\n",
       "        text-align: right;\n",
       "    }\n",
       "</style>\n",
       "<table border=\"1\" class=\"dataframe\">\n",
       "  <thead>\n",
       "    <tr style=\"text-align: right;\">\n",
       "      <th></th>\n",
       "      <th>pnl_net</th>\n",
       "      <th>won</th>\n",
       "      <th>lost</th>\n",
       "      <th>total_trades</th>\n",
       "      <th>moneydown_max</th>\n",
       "      <th>long_won</th>\n",
       "      <th>long_lost</th>\n",
       "      <th>short_won</th>\n",
       "      <th>short_lost</th>\n",
       "      <th>longs_pnl</th>\n",
       "      <th>shorts_pnl</th>\n",
       "      <th>leverage_factor</th>\n",
       "      <th>aroon_timeperiod</th>\n",
       "      <th>ema</th>\n",
       "    </tr>\n",
       "  </thead>\n",
       "  <tbody>\n",
       "    <tr>\n",
       "      <th>8</th>\n",
       "      <td>-14.345967</td>\n",
       "      <td>0</td>\n",
       "      <td>4</td>\n",
       "      <td>4</td>\n",
       "      <td>15.789499</td>\n",
       "      <td>0</td>\n",
       "      <td>4</td>\n",
       "      <td>0</td>\n",
       "      <td>0</td>\n",
       "      <td>-14.345967</td>\n",
       "      <td>0.000000</td>\n",
       "      <td>1.0</td>\n",
       "      <td>250</td>\n",
       "      <td>100</td>\n",
       "    </tr>\n",
       "    <tr>\n",
       "      <th>19</th>\n",
       "      <td>-14.345967</td>\n",
       "      <td>0</td>\n",
       "      <td>4</td>\n",
       "      <td>4</td>\n",
       "      <td>15.789499</td>\n",
       "      <td>0</td>\n",
       "      <td>4</td>\n",
       "      <td>0</td>\n",
       "      <td>0</td>\n",
       "      <td>-14.345967</td>\n",
       "      <td>0.000000</td>\n",
       "      <td>1.0</td>\n",
       "      <td>250</td>\n",
       "      <td>125</td>\n",
       "    </tr>\n",
       "    <tr>\n",
       "      <th>30</th>\n",
       "      <td>-14.345967</td>\n",
       "      <td>0</td>\n",
       "      <td>4</td>\n",
       "      <td>4</td>\n",
       "      <td>15.789499</td>\n",
       "      <td>0</td>\n",
       "      <td>4</td>\n",
       "      <td>0</td>\n",
       "      <td>0</td>\n",
       "      <td>-14.345967</td>\n",
       "      <td>0.000000</td>\n",
       "      <td>1.0</td>\n",
       "      <td>250</td>\n",
       "      <td>150</td>\n",
       "    </tr>\n",
       "    <tr>\n",
       "      <th>41</th>\n",
       "      <td>-14.345967</td>\n",
       "      <td>0</td>\n",
       "      <td>4</td>\n",
       "      <td>4</td>\n",
       "      <td>15.789499</td>\n",
       "      <td>0</td>\n",
       "      <td>4</td>\n",
       "      <td>0</td>\n",
       "      <td>0</td>\n",
       "      <td>-14.345967</td>\n",
       "      <td>0.000000</td>\n",
       "      <td>1.0</td>\n",
       "      <td>250</td>\n",
       "      <td>175</td>\n",
       "    </tr>\n",
       "    <tr>\n",
       "      <th>52</th>\n",
       "      <td>-14.345967</td>\n",
       "      <td>0</td>\n",
       "      <td>4</td>\n",
       "      <td>4</td>\n",
       "      <td>15.789499</td>\n",
       "      <td>0</td>\n",
       "      <td>4</td>\n",
       "      <td>0</td>\n",
       "      <td>0</td>\n",
       "      <td>-14.345967</td>\n",
       "      <td>0.000000</td>\n",
       "      <td>1.0</td>\n",
       "      <td>250</td>\n",
       "      <td>200</td>\n",
       "    </tr>\n",
       "    <tr>\n",
       "      <th>63</th>\n",
       "      <td>-14.345967</td>\n",
       "      <td>0</td>\n",
       "      <td>4</td>\n",
       "      <td>4</td>\n",
       "      <td>15.789499</td>\n",
       "      <td>0</td>\n",
       "      <td>4</td>\n",
       "      <td>0</td>\n",
       "      <td>0</td>\n",
       "      <td>-14.345967</td>\n",
       "      <td>0.000000</td>\n",
       "      <td>1.0</td>\n",
       "      <td>250</td>\n",
       "      <td>225</td>\n",
       "    </tr>\n",
       "    <tr>\n",
       "      <th>74</th>\n",
       "      <td>-14.345967</td>\n",
       "      <td>0</td>\n",
       "      <td>4</td>\n",
       "      <td>4</td>\n",
       "      <td>15.789499</td>\n",
       "      <td>0</td>\n",
       "      <td>4</td>\n",
       "      <td>0</td>\n",
       "      <td>0</td>\n",
       "      <td>-14.345967</td>\n",
       "      <td>0.000000</td>\n",
       "      <td>1.0</td>\n",
       "      <td>250</td>\n",
       "      <td>250</td>\n",
       "    </tr>\n",
       "    <tr>\n",
       "      <th>62</th>\n",
       "      <td>-12.112524</td>\n",
       "      <td>0</td>\n",
       "      <td>4</td>\n",
       "      <td>5</td>\n",
       "      <td>13.875204</td>\n",
       "      <td>0</td>\n",
       "      <td>0</td>\n",
       "      <td>0</td>\n",
       "      <td>4</td>\n",
       "      <td>0.000000</td>\n",
       "      <td>-12.112524</td>\n",
       "      <td>1.0</td>\n",
       "      <td>225</td>\n",
       "      <td>225</td>\n",
       "    </tr>\n",
       "    <tr>\n",
       "      <th>73</th>\n",
       "      <td>-12.112524</td>\n",
       "      <td>0</td>\n",
       "      <td>4</td>\n",
       "      <td>5</td>\n",
       "      <td>13.875204</td>\n",
       "      <td>0</td>\n",
       "      <td>0</td>\n",
       "      <td>0</td>\n",
       "      <td>4</td>\n",
       "      <td>0.000000</td>\n",
       "      <td>-12.112524</td>\n",
       "      <td>1.0</td>\n",
       "      <td>225</td>\n",
       "      <td>250</td>\n",
       "    </tr>\n",
       "    <tr>\n",
       "      <th>84</th>\n",
       "      <td>-12.112524</td>\n",
       "      <td>0</td>\n",
       "      <td>4</td>\n",
       "      <td>5</td>\n",
       "      <td>13.875204</td>\n",
       "      <td>0</td>\n",
       "      <td>0</td>\n",
       "      <td>0</td>\n",
       "      <td>4</td>\n",
       "      <td>0.000000</td>\n",
       "      <td>-12.112524</td>\n",
       "      <td>1.0</td>\n",
       "      <td>225</td>\n",
       "      <td>275</td>\n",
       "    </tr>\n",
       "  </tbody>\n",
       "</table>\n",
       "</div>"
      ],
      "text/plain": [
       "      pnl_net  won  lost  total_trades  moneydown_max  long_won  long_lost  \\\n",
       "8  -14.345967    0     4             4      15.789499         0          4   \n",
       "19 -14.345967    0     4             4      15.789499         0          4   \n",
       "30 -14.345967    0     4             4      15.789499         0          4   \n",
       "41 -14.345967    0     4             4      15.789499         0          4   \n",
       "52 -14.345967    0     4             4      15.789499         0          4   \n",
       "63 -14.345967    0     4             4      15.789499         0          4   \n",
       "74 -14.345967    0     4             4      15.789499         0          4   \n",
       "62 -12.112524    0     4             5      13.875204         0          0   \n",
       "73 -12.112524    0     4             5      13.875204         0          0   \n",
       "84 -12.112524    0     4             5      13.875204         0          0   \n",
       "\n",
       "    short_won  short_lost  longs_pnl  shorts_pnl  leverage_factor  \\\n",
       "8           0           0 -14.345967    0.000000              1.0   \n",
       "19          0           0 -14.345967    0.000000              1.0   \n",
       "30          0           0 -14.345967    0.000000              1.0   \n",
       "41          0           0 -14.345967    0.000000              1.0   \n",
       "52          0           0 -14.345967    0.000000              1.0   \n",
       "63          0           0 -14.345967    0.000000              1.0   \n",
       "74          0           0 -14.345967    0.000000              1.0   \n",
       "62          0           4   0.000000  -12.112524              1.0   \n",
       "73          0           4   0.000000  -12.112524              1.0   \n",
       "84          0           4   0.000000  -12.112524              1.0   \n",
       "\n",
       "    aroon_timeperiod  ema  \n",
       "8                250  100  \n",
       "19               250  125  \n",
       "30               250  150  \n",
       "41               250  175  \n",
       "52               250  200  \n",
       "63               250  225  \n",
       "74               250  250  \n",
       "62               225  225  \n",
       "73               225  250  \n",
       "84               225  275  "
      ]
     },
     "execution_count": 67,
     "metadata": {},
     "output_type": "execute_result"
    }
   ],
   "source": [
    "df_results[\n",
    "    [\n",
    "    'pnl_net',\n",
    "    'won',\n",
    "    'lost',\n",
    "    'total_trades',\n",
    "    'moneydown_max',\n",
    "    'long_won',\n",
    "    'long_lost',\n",
    "    'short_won',\n",
    "    'short_lost',\n",
    "    'longs_pnl',\n",
    "    'shorts_pnl',\n",
    "    'leverage_factor',\n",
    "    'aroon_timeperiod',\n",
    "    'ema',\n",
    "    ]\n",
    "].nsmallest(10,'pnl_net')"
   ]
  },
  {
   "cell_type": "markdown",
   "metadata": {},
   "source": [
    "### <center>Failed test objects"
   ]
  },
  {
   "cell_type": "code",
   "execution_count": 68,
   "metadata": {},
   "outputs": [],
   "source": [
    "def identify_failed_objects(optimizations):\n",
    "    failed_idx = []\n",
    "    for idx,op in enumerate(optimizations):\n",
    "        try:\n",
    "            op[0].analyzers.tradeanalyzer.get_analysis()['pnl']['net']['total']\n",
    "        except:\n",
    "            failed_idx.append(idx)\n",
    "    print('Failed tests #',len(failed_idx))\n",
    "    return failed_idx\n",
    "\n",
    "def pop_failed_objects(optimizations,failed_idx):\n",
    "    failed_objects = []\n",
    "    for f in failed_idx:\n",
    "        failed_objects.append(optimizations.pop(f))\n",
    "    print('#',len(failed))\n",
    "    return failed_objects"
   ]
  },
  {
   "cell_type": "code",
   "execution_count": 69,
   "metadata": {},
   "outputs": [],
   "source": [
    "# len(optimizations)"
   ]
  },
  {
   "cell_type": "code",
   "execution_count": 70,
   "metadata": {},
   "outputs": [
    {
     "data": {
      "text/plain": [
       "' while True:\\n    indices = identify_failed_objects(optimizations)\\n    if not indices:\\n        break\\n    objects = pop_failed_objects(optimizations,failed_idx=indices)\\n    if not objects:\\n        break\\n\\nprint(len(objects)) '"
      ]
     },
     "execution_count": 70,
     "metadata": {},
     "output_type": "execute_result"
    }
   ],
   "source": [
    "''' while True:\n",
    "    indices = identify_failed_objects(optimizations)\n",
    "    if not indices:\n",
    "        break\n",
    "    objects = pop_failed_objects(optimizations,failed_idx=indices)\n",
    "    if not objects:\n",
    "        break\n",
    "\n",
    "print(len(objects)) '''"
   ]
  },
  {
   "cell_type": "code",
   "execution_count": 71,
   "metadata": {},
   "outputs": [
    {
     "data": {
      "text/plain": [
       "' dict(zip(\\n        list(objects[0][0].params._getkeys()),\\n        list(objects[0][0].params._getvalues()),\\n    )) '"
      ]
     },
     "execution_count": 71,
     "metadata": {},
     "output_type": "execute_result"
    }
   ],
   "source": [
    "''' dict(zip(\n",
    "        list(objects[0][0].params._getkeys()),\n",
    "        list(objects[0][0].params._getvalues()),\n",
    "    )) '''"
   ]
  }
 ],
 "metadata": {
  "interpreter": {
   "hash": "646425df6a41cfd3607fa50451e6bc17bfe23ef1d5fe6e3785861e277c56bb07"
  },
  "kernelspec": {
   "display_name": "Python 3.8.10 ('.venv-p39': venv)",
   "language": "python",
   "name": "python3"
  },
  "language_info": {
   "codemirror_mode": {
    "name": "ipython",
    "version": 3
   },
   "file_extension": ".py",
   "mimetype": "text/x-python",
   "name": "python",
   "nbconvert_exporter": "python",
   "pygments_lexer": "ipython3",
   "version": "3.8.10"
  },
  "orig_nbformat": 4
 },
 "nbformat": 4,
 "nbformat_minor": 2
}
