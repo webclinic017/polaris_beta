{
 "cells": [
  {
   "cell_type": "code",
   "execution_count": 1,
   "metadata": {},
   "outputs": [],
   "source": [
    "import ta\n",
    "from ta.volume import VolumeWeightedAveragePrice\n",
    "from datetime import datetime\n",
    "import pdmongo as pdm\n",
    "import pandas as pd\n",
    "import numpy as np\n",
    "\n",
    "from sklearn.ensemble           import RandomForestClassifier\n",
    "from sklearn.metrics            import accuracy_score, precision_score, confusion_matrix\n",
    "from sklearn.model_selection    import train_test_split\n",
    "\n",
    "import matplotlib.pyplot as plt\n",
    "import pickle\n",
    "\n",
    "from polaristools.polarisbot import PolarisBot"
   ]
  },
  {
   "cell_type": "markdown",
   "metadata": {},
   "source": [
    "# Inputa data"
   ]
  },
  {
   "cell_type": "code",
   "execution_count": null,
   "metadata": {},
   "outputs": [],
   "source": [
    "polaris = PolarisBot()"
   ]
  },
  {
   "cell_type": "markdown",
   "metadata": {},
   "source": [
    "## Main instrument"
   ]
  },
  {
   "cell_type": "code",
   "execution_count": null,
   "metadata": {},
   "outputs": [],
   "source": [
    "filename = 'df_'"
   ]
  },
  {
   "cell_type": "code",
   "execution_count": 4,
   "metadata": {},
   "outputs": [],
   "source": [
    "df = polaris.dataframeFromBinary(filename)"
   ]
  },
  {
   "cell_type": "markdown",
   "metadata": {},
   "source": [
    "## Secondary or comparative"
   ]
  },
  {
   "cell_type": "code",
   "execution_count": null,
   "metadata": {},
   "outputs": [],
   "source": [
    "# "
   ]
  },
  {
   "cell_type": "markdown",
   "metadata": {},
   "source": [
    "# Technical indicators"
   ]
  },
  {
   "cell_type": "code",
   "execution_count": 4,
   "metadata": {},
   "outputs": [],
   "source": [
    "def apply_technicals(df):\n",
    "    for i in range(10,101,10):\n",
    "        df['SMA_'+str(i)] = df.close.rolling(i).mean()\n",
    "    for j in range(15,101,5):\n",
    "        df['rsi_'+str(j)] = ta.momentum.rsi(df.close, window=j)\n",
    "    df['macd'] = ta.trend.macd_diff(df.close)\n",
    "    df.dropna(inplace=True)"
   ]
  },
  {
   "cell_type": "code",
   "execution_count": 5,
   "metadata": {},
   "outputs": [],
   "source": [
    "apply_technicals(df)"
   ]
  },
  {
   "cell_type": "code",
   "execution_count": 6,
   "metadata": {},
   "outputs": [
    {
     "data": {
      "text/plain": [
       "Index(['open', 'high', 'low', 'close', 'volume', 'SMA_10', 'SMA_20', 'SMA_30',\n",
       "       'SMA_40', 'SMA_50', 'SMA_60', 'SMA_70', 'SMA_80', 'SMA_90', 'SMA_100',\n",
       "       'rsi_15', 'rsi_20', 'rsi_25', 'rsi_30', 'rsi_35', 'rsi_40', 'rsi_45',\n",
       "       'rsi_50', 'rsi_55', 'rsi_60', 'rsi_65', 'rsi_70', 'rsi_75', 'rsi_80',\n",
       "       'rsi_85', 'rsi_90', 'rsi_95', 'rsi_100', 'macd'],\n",
       "      dtype='object')"
      ]
     },
     "execution_count": 6,
     "metadata": {},
     "output_type": "execute_result"
    }
   ],
   "source": [
    "df.columns"
   ]
  },
  {
   "cell_type": "code",
   "execution_count": 7,
   "metadata": {},
   "outputs": [],
   "source": [
    "def vwap(dataframe, label='vwap', window=1, fillna=True):\n",
    "        dataframe[label] = VolumeWeightedAveragePrice(\n",
    "                high=dataframe['high'],\n",
    "                low=dataframe['low'],\n",
    "                close=dataframe[\"close\"],\n",
    "                volume=dataframe['volume'],\n",
    "                window=window,\n",
    "                fillna=fillna\n",
    "        ).volume_weighted_average_price()\n",
    "        dataframe.dropna(inplace=True)\n",
    "        return dataframe"
   ]
  },
  {
   "cell_type": "code",
   "execution_count": 9,
   "metadata": {},
   "outputs": [],
   "source": [
    "df = vwap(dataframe=df, label='vwap24',window=24)"
   ]
  },
  {
   "cell_type": "code",
   "execution_count": null,
   "metadata": {},
   "outputs": [],
   "source": [
    "df.info()"
   ]
  },
  {
   "cell_type": "code",
   "execution_count": 17,
   "metadata": {},
   "outputs": [
    {
     "data": {
      "text/html": [
       "<div>\n",
       "<style scoped>\n",
       "    .dataframe tbody tr th:only-of-type {\n",
       "        vertical-align: middle;\n",
       "    }\n",
       "\n",
       "    .dataframe tbody tr th {\n",
       "        vertical-align: top;\n",
       "    }\n",
       "\n",
       "    .dataframe thead th {\n",
       "        text-align: right;\n",
       "    }\n",
       "</style>\n",
       "<table border=\"1\" class=\"dataframe\">\n",
       "  <thead>\n",
       "    <tr style=\"text-align: right;\">\n",
       "      <th></th>\n",
       "      <th>close</th>\n",
       "      <th>vwap24</th>\n",
       "    </tr>\n",
       "    <tr>\n",
       "      <th>open_time</th>\n",
       "      <th></th>\n",
       "      <th></th>\n",
       "    </tr>\n",
       "  </thead>\n",
       "  <tbody>\n",
       "    <tr>\n",
       "      <th>2022-07-21</th>\n",
       "      <td>23152.19</td>\n",
       "      <td>21202.237335</td>\n",
       "    </tr>\n",
       "    <tr>\n",
       "      <th>2022-07-22</th>\n",
       "      <td>22684.83</td>\n",
       "      <td>21297.367927</td>\n",
       "    </tr>\n",
       "    <tr>\n",
       "      <th>2022-07-23</th>\n",
       "      <td>22451.07</td>\n",
       "      <td>21360.413988</td>\n",
       "    </tr>\n",
       "    <tr>\n",
       "      <th>2022-07-24</th>\n",
       "      <td>22579.68</td>\n",
       "      <td>21444.612963</td>\n",
       "    </tr>\n",
       "    <tr>\n",
       "      <th>2022-07-25</th>\n",
       "      <td>21310.90</td>\n",
       "      <td>21509.895822</td>\n",
       "    </tr>\n",
       "  </tbody>\n",
       "</table>\n",
       "</div>"
      ],
      "text/plain": [
       "               close        vwap24\n",
       "open_time                         \n",
       "2022-07-21  23152.19  21202.237335\n",
       "2022-07-22  22684.83  21297.367927\n",
       "2022-07-23  22451.07  21360.413988\n",
       "2022-07-24  22579.68  21444.612963\n",
       "2022-07-25  21310.90  21509.895822"
      ]
     },
     "execution_count": 17,
     "metadata": {},
     "output_type": "execute_result"
    }
   ],
   "source": [
    "df[['close','vwap24']].tail()"
   ]
  },
  {
   "cell_type": "markdown",
   "metadata": {},
   "source": [
    "## Compared instrument"
   ]
  },
  {
   "cell_type": "code",
   "execution_count": null,
   "metadata": {},
   "outputs": [],
   "source": [
    "# btc_df = makeFeed(pair='btc', timeframe='1h')\n",
    "# btc_df['pct_change'] = btc_df.close.pct_change()\n",
    "# btc_df = btc_df['pct_change']\n",
    "# # df_btc_sample = btc_df.loc['2018':'2019']\n",
    "# # btc_df\n",
    "# df['btc_pctCHange'] = btc_df\n",
    "# df.dropna(inplace=True)\n",
    "# # df\n"
   ]
  },
  {
   "cell_type": "markdown",
   "metadata": {},
   "source": [
    "# Define independent variables and dependent variable."
   ]
  },
  {
   "cell_type": "code",
   "execution_count": 18,
   "metadata": {},
   "outputs": [],
   "source": [
    "def x_y(df, period):\n",
    "    '''\n",
    "        Independent variable X is the dataset.\n",
    "        Dependent variable Y is a numpy array of 0 and 1's as a binary classification,\n",
    "            based on the direction of the market at the previous close.\n",
    "    '''\n",
    "    y = df.close.shift(-period) - df.close\n",
    "    y = y[:-period]\n",
    "    x = df[:-period]\n",
    "    y = np.where(y > 0, 1, 0)\n",
    "    return x,y"
   ]
  },
  {
   "cell_type": "code",
   "execution_count": 19,
   "metadata": {},
   "outputs": [],
   "source": [
    "x,y = x_y(df, 1)"
   ]
  },
  {
   "cell_type": "markdown",
   "metadata": {},
   "source": [
    "# Train test split"
   ]
  },
  {
   "cell_type": "code",
   "execution_count": 27,
   "metadata": {},
   "outputs": [],
   "source": [
    "x_train, x_test, y_train, y_test = train_test_split(x,y,\n",
    "                                                    test_size=0.4,\n",
    "                                                    random_state=1722,\n",
    "                                                    shuffle=False)"
   ]
  },
  {
   "cell_type": "markdown",
   "metadata": {},
   "source": [
    "# <center>Instantiate Classifier"
   ]
  },
  {
   "cell_type": "code",
   "execution_count": 28,
   "metadata": {},
   "outputs": [],
   "source": [
    "rf_clf = RandomForestClassifier(random_state=1722)"
   ]
  },
  {
   "cell_type": "markdown",
   "metadata": {},
   "source": [
    "## <center>Classifier.fit"
   ]
  },
  {
   "cell_type": "code",
   "execution_count": 29,
   "metadata": {},
   "outputs": [
    {
     "data": {
      "text/html": [
       "<style>#sk-container-id-1 {color: black;background-color: white;}#sk-container-id-1 pre{padding: 0;}#sk-container-id-1 div.sk-toggleable {background-color: white;}#sk-container-id-1 label.sk-toggleable__label {cursor: pointer;display: block;width: 100%;margin-bottom: 0;padding: 0.3em;box-sizing: border-box;text-align: center;}#sk-container-id-1 label.sk-toggleable__label-arrow:before {content: \"▸\";float: left;margin-right: 0.25em;color: #696969;}#sk-container-id-1 label.sk-toggleable__label-arrow:hover:before {color: black;}#sk-container-id-1 div.sk-estimator:hover label.sk-toggleable__label-arrow:before {color: black;}#sk-container-id-1 div.sk-toggleable__content {max-height: 0;max-width: 0;overflow: hidden;text-align: left;background-color: #f0f8ff;}#sk-container-id-1 div.sk-toggleable__content pre {margin: 0.2em;color: black;border-radius: 0.25em;background-color: #f0f8ff;}#sk-container-id-1 input.sk-toggleable__control:checked~div.sk-toggleable__content {max-height: 200px;max-width: 100%;overflow: auto;}#sk-container-id-1 input.sk-toggleable__control:checked~label.sk-toggleable__label-arrow:before {content: \"▾\";}#sk-container-id-1 div.sk-estimator input.sk-toggleable__control:checked~label.sk-toggleable__label {background-color: #d4ebff;}#sk-container-id-1 div.sk-label input.sk-toggleable__control:checked~label.sk-toggleable__label {background-color: #d4ebff;}#sk-container-id-1 input.sk-hidden--visually {border: 0;clip: rect(1px 1px 1px 1px);clip: rect(1px, 1px, 1px, 1px);height: 1px;margin: -1px;overflow: hidden;padding: 0;position: absolute;width: 1px;}#sk-container-id-1 div.sk-estimator {font-family: monospace;background-color: #f0f8ff;border: 1px dotted black;border-radius: 0.25em;box-sizing: border-box;margin-bottom: 0.5em;}#sk-container-id-1 div.sk-estimator:hover {background-color: #d4ebff;}#sk-container-id-1 div.sk-parallel-item::after {content: \"\";width: 100%;border-bottom: 1px solid gray;flex-grow: 1;}#sk-container-id-1 div.sk-label:hover label.sk-toggleable__label {background-color: #d4ebff;}#sk-container-id-1 div.sk-serial::before {content: \"\";position: absolute;border-left: 1px solid gray;box-sizing: border-box;top: 0;bottom: 0;left: 50%;z-index: 0;}#sk-container-id-1 div.sk-serial {display: flex;flex-direction: column;align-items: center;background-color: white;padding-right: 0.2em;padding-left: 0.2em;position: relative;}#sk-container-id-1 div.sk-item {position: relative;z-index: 1;}#sk-container-id-1 div.sk-parallel {display: flex;align-items: stretch;justify-content: center;background-color: white;position: relative;}#sk-container-id-1 div.sk-item::before, #sk-container-id-1 div.sk-parallel-item::before {content: \"\";position: absolute;border-left: 1px solid gray;box-sizing: border-box;top: 0;bottom: 0;left: 50%;z-index: -1;}#sk-container-id-1 div.sk-parallel-item {display: flex;flex-direction: column;z-index: 1;position: relative;background-color: white;}#sk-container-id-1 div.sk-parallel-item:first-child::after {align-self: flex-end;width: 50%;}#sk-container-id-1 div.sk-parallel-item:last-child::after {align-self: flex-start;width: 50%;}#sk-container-id-1 div.sk-parallel-item:only-child::after {width: 0;}#sk-container-id-1 div.sk-dashed-wrapped {border: 1px dashed gray;margin: 0 0.4em 0.5em 0.4em;box-sizing: border-box;padding-bottom: 0.4em;background-color: white;}#sk-container-id-1 div.sk-label label {font-family: monospace;font-weight: bold;display: inline-block;line-height: 1.2em;}#sk-container-id-1 div.sk-label-container {text-align: center;}#sk-container-id-1 div.sk-container {/* jupyter's `normalize.less` sets `[hidden] { display: none; }` but bootstrap.min.css set `[hidden] { display: none !important; }` so we also need the `!important` here to be able to override the default hidden behavior on the sphinx rendered scikit-learn.org. See: https://github.com/scikit-learn/scikit-learn/issues/21755 */display: inline-block !important;position: relative;}#sk-container-id-1 div.sk-text-repr-fallback {display: none;}</style><div id=\"sk-container-id-1\" class=\"sk-top-container\"><div class=\"sk-text-repr-fallback\"><pre>RandomForestClassifier(random_state=1722)</pre><b>In a Jupyter environment, please rerun this cell to show the HTML representation or trust the notebook. <br />On GitHub, the HTML representation is unable to render, please try loading this page with nbviewer.org.</b></div><div class=\"sk-container\" hidden><div class=\"sk-item\"><div class=\"sk-estimator sk-toggleable\"><input class=\"sk-toggleable__control sk-hidden--visually\" id=\"sk-estimator-id-1\" type=\"checkbox\" checked><label for=\"sk-estimator-id-1\" class=\"sk-toggleable__label sk-toggleable__label-arrow\">RandomForestClassifier</label><div class=\"sk-toggleable__content\"><pre>RandomForestClassifier(random_state=1722)</pre></div></div></div></div></div>"
      ],
      "text/plain": [
       "RandomForestClassifier(random_state=1722)"
      ]
     },
     "execution_count": 29,
     "metadata": {},
     "output_type": "execute_result"
    }
   ],
   "source": [
    "rf_clf.fit(x_train, y_train)"
   ]
  },
  {
   "cell_type": "markdown",
   "metadata": {},
   "source": [
    "## Evaluate"
   ]
  },
  {
   "cell_type": "code",
   "execution_count": 30,
   "metadata": {},
   "outputs": [],
   "source": [
    "predictor = rf_clf.predict(x_test)"
   ]
  },
  {
   "cell_type": "markdown",
   "metadata": {},
   "source": [
    "### Persist object-model as a binary."
   ]
  },
  {
   "cell_type": "code",
   "execution_count": null,
   "metadata": {},
   "outputs": [],
   "source": [
    "filename = 'randomforestcl-btcusdt-1d'"
   ]
  },
  {
   "cell_type": "code",
   "execution_count": 49,
   "metadata": {},
   "outputs": [],
   "source": [
    "with open(f'trained-models/{filename}.pckl', 'wb') as bin_trainedmodel:\n",
    "    pickle.dump(rf_clf, bin_trainedmodel)"
   ]
  },
  {
   "cell_type": "markdown",
   "metadata": {},
   "source": [
    "### Retrieve model from file."
   ]
  },
  {
   "cell_type": "code",
   "execution_count": 6,
   "metadata": {},
   "outputs": [],
   "source": [
    "filename = 'randomForestClf-btc1h'"
   ]
  },
  {
   "cell_type": "code",
   "execution_count": 51,
   "metadata": {},
   "outputs": [],
   "source": [
    "bin_model = open(f'trained-models/{filename}.pckl', 'rb')\n",
    "rf_clf_trained = pickle.load(bin_model)\n",
    "bin_model.close()"
   ]
  },
  {
   "cell_type": "markdown",
   "metadata": {},
   "source": [
    "# Results\n",
    "\n",
    "SKLearn Confusion matrix:<br><br>\n",
    "[True negative][False positive]<br>\n",
    "[False negative][True positive]"
   ]
  },
  {
   "cell_type": "code",
   "execution_count": 42,
   "metadata": {},
   "outputs": [],
   "source": [
    "matrix = confusion_matrix(y_test, predictor)"
   ]
  },
  {
   "cell_type": "code",
   "execution_count": 43,
   "metadata": {},
   "outputs": [
    {
     "name": "stdout",
     "output_type": "stream",
     "text": [
      "[[290  41]\n",
      " [295  56]]\n"
     ]
    }
   ],
   "source": [
    "print(matrix)"
   ]
  },
  {
   "cell_type": "code",
   "execution_count": 41,
   "metadata": {},
   "outputs": [
    {
     "name": "stdout",
     "output_type": "stream",
     "text": [
      "RESULTS______________\n",
      "Assert on Sells : 290\n",
      "Failed Sells    : 295\n",
      "\n",
      "Assert on Buys  : 56\n",
      "Failed Buys     : 41\n",
      "\n"
     ]
    }
   ],
   "source": [
    "results = f\"\"\"RESULTS______________\n",
    "Assert on Sells : {matrix[0,0]}\n",
    "Failed Sells    : {matrix[1,0]}\n",
    "\n",
    "Assert on Buys  : {matrix[1,1]}\n",
    "Failed Buys     : {matrix[0,1]}\n",
    "\"\"\"\n",
    "\n",
    "print(results)"
   ]
  },
  {
   "cell_type": "code",
   "execution_count": 44,
   "metadata": {},
   "outputs": [],
   "source": [
    "tn, fp, fn, tp = confusion_matrix(y_test, predictor).ravel()"
   ]
  },
  {
   "cell_type": "code",
   "execution_count": null,
   "metadata": {},
   "outputs": [],
   "source": [
    "accuracy_score = float(accuracy_score( y_test, predictor))\n",
    "precision_score = float(precision_score( y_test, predictor))\n",
    "print(f'accuracy_score : {accuracy_score:.3}\\nprecision_score : {precision_score:.3}')"
   ]
  },
  {
   "cell_type": "code",
   "execution_count": 46,
   "metadata": {},
   "outputs": [
    {
     "data": {
      "text/plain": [
       "0.5773195876288659"
      ]
     },
     "execution_count": 46,
     "metadata": {},
     "output_type": "execute_result"
    }
   ],
   "source": [
    "precision_score(y_test, predictor)"
   ]
  },
  {
   "cell_type": "markdown",
   "metadata": {},
   "source": [
    "## <center>Predict on new data"
   ]
  },
  {
   "cell_type": "code",
   "execution_count": 58,
   "metadata": {},
   "outputs": [],
   "source": [
    "df = polaris.createDataframe(\n",
    "    mydb='binance_spot_margin_usdt',\n",
    "    collection='klines_ADAUSDT_1d',\n",
    ")\n",
    "\n",
    "apply_technicals(df)\n",
    "df = vwap(dataframe=df, label='vwap24',window=24)\n",
    "x,y = x_y(df, 1)"
   ]
  },
  {
   "cell_type": "code",
   "execution_count": 59,
   "metadata": {},
   "outputs": [],
   "source": [
    "new_prediction = rf_clf_trained.predict( x )"
   ]
  },
  {
   "cell_type": "code",
   "execution_count": 61,
   "metadata": {},
   "outputs": [
    {
     "name": "stdout",
     "output_type": "stream",
     "text": [
      "[[226 496]\n",
      " [213 526]]\n"
     ]
    }
   ],
   "source": [
    "matrix_i = confusion_matrix( y, new_prediction)\n",
    "\n",
    "print(matrix_i)"
   ]
  },
  {
   "cell_type": "code",
   "execution_count": 78,
   "metadata": {},
   "outputs": [
    {
     "name": "stdout",
     "output_type": "stream",
     "text": [
      "RESULTS______________\n",
      "Assert on Sells : 226\n",
      "Failed Sells    : 213\n",
      "\n",
      "Assert on Buys  : 526\n",
      "Failed Buys     : 496\n",
      "\n"
     ]
    }
   ],
   "source": [
    "results = f\"\"\"RESULTS______________\n",
    "Assert on Sells : {matrix_i[0,0]}\n",
    "Failed Sells    : {matrix_i[1,0]}\n",
    "\n",
    "Assert on Buys  : {matrix_i[1,1]}\n",
    "Failed Buys     : {matrix_i[0,1]}\n",
    "\"\"\"\n",
    "\n",
    "print(results)"
   ]
  },
  {
   "cell_type": "code",
   "execution_count": 62,
   "metadata": {},
   "outputs": [],
   "source": [
    "tn, fp, fn, tp = confusion_matrix( y, new_prediction).ravel()"
   ]
  },
  {
   "cell_type": "code",
   "execution_count": 73,
   "metadata": {},
   "outputs": [],
   "source": [
    "accuracy_score = float(accuracy_score( y, new_prediction))\n",
    "precision_score = float(precision_score( y, new_prediction))\n",
    "print(f'accuracy_score : {accuracy_score:.3}\\nprecision_score : {precision_score:.3}')"
   ]
  },
  {
   "cell_type": "code",
   "execution_count": 166,
   "metadata": {},
   "outputs": [
    {
     "data": {
      "text/plain": [
       "[[10, 0.49564146602287823, 0.4956862745098039],\n",
       " [20, 0.49411650296606047, 0.4942137953579601],\n",
       " [30, 0.4883102564934012, 0.48790058862001306],\n",
       " [50, 0.48444141600960444, 0.48444095415725924],\n",
       " [60, 0.48193709630302833, 0.48165362835913716]]"
      ]
     },
     "execution_count": 166,
     "metadata": {},
     "output_type": "execute_result"
    }
   ],
   "source": [
    "# ITERATION WITH LOOKBACK PERIOD\n",
    "    # with '1h' timeframe lookback period about 650 is better\n",
    "\n",
    "results = []\n",
    "for i in range(10,700,10):\n",
    "    x,y = x_y(df, i)\n",
    "    prediction = rf_clf_trained.predict( x )\n",
    "    cm = confusion_matrix( y, prediction)\n",
    "    tn, fp, fn, tp = confusion_matrix( y, prediction).ravel()\n",
    "    results.append(\n",
    "        [\n",
    "        i,\n",
    "        accuracy_score( y, prediction),\n",
    "        precision_score( y, prediction)\n",
    "        ]\n",
    "    )\n",
    "\n",
    "results.sort(key=lambda r:r[1], reverse=True)\n",
    "results[:5]"
   ]
  },
  {
   "cell_type": "markdown",
   "metadata": {},
   "source": [
    "# Plot"
   ]
  },
  {
   "cell_type": "code",
   "execution_count": 200,
   "metadata": {},
   "outputs": [
    {
     "data": {
      "image/png": "[encoded data removed]",
      "text/plain": [
       "<Figure size 1440x720 with 1 Axes>"
      ]
     },
     "metadata": {
      "needs_background": "light"
     },
     "output_type": "display_data"
    }
   ],
   "source": [
    "fig, ax = plt.subplots(figsize=(20,10))\n",
    "# fig, ax = plt.subplots(nrows=2,ncols=1, figsize=(20,10))\n",
    "\n",
    "ax.plot( df.loc['2019-07':'2019-11']['high'], color='red' )\n",
    "ax.plot( df.loc['2019-07':'2019-11']['vwap'], color='green' )\n",
    "ax.plot( df.loc['2019-07':'2019-11']['vwap24'], color='yellow' )\n",
    "\n",
    "plt.show()"
   ]
  }
 ],
 "metadata": {
  "kernelspec": {
   "display_name": "Python 3.8.10 ('.venv-p39': venv)",
   "language": "python",
   "name": "python3"
  },
  "language_info": {
   "codemirror_mode": {
    "name": "ipython",
    "version": 3
   },
   "file_extension": ".py",
   "mimetype": "text/x-python",
   "name": "python",
   "nbconvert_exporter": "python",
   "pygments_lexer": "ipython3",
   "version": "3.8.10"
  },
  "orig_nbformat": 4,
  "vscode": {
   "interpreter": {
    "hash": "646425df6a41cfd3607fa50451e6bc17bfe23ef1d5fe6e3785861e277c56bb07"
   }
  }
 },
 "nbformat": 4,
 "nbformat_minor": 2
}
